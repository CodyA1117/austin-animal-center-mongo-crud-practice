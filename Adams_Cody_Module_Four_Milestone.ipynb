{
 "cells": [
  {
   "cell_type": "code",
   "execution_count": 1,
   "id": "138844c1",
   "metadata": {},
   "outputs": [
    {
     "ename": "SyntaxError",
     "evalue": "invalid syntax (1750410323.py, line 11)",
     "output_type": "error",
     "traceback": [
      "\u001b[0;36m  Input \u001b[0;32mIn [1]\u001b[0;36m\u001b[0m\n\u001b[0;31m    }\u001b[0m\n\u001b[0m    ^\u001b[0m\n\u001b[0;31mSyntaxError\u001b[0m\u001b[0;31m:\u001b[0m invalid syntax\n"
     ]
    }
   ],
   "source": [
    "from animal_shelter import AnimalShelter\n",
    "\n",
    "\n",
    "#Creating an object\n",
    "shelter = AnimalShelter()\n",
    "\n",
    "#insert a test animal\n",
    "test_animal = {\n",
    "    \"animal_id\": \"A000001\",\n",
    "    \"name\"\n",
    "}"
   ]
  },
  {
   "cell_type": "code",
   "execution_count": 1,
   "id": "aa2a7b41",
   "metadata": {},
   "outputs": [
    {
     "name": "stdout",
     "output_type": "stream",
     "text": [
      "Insert successful: True\n",
      "{'_id': ObjectId('67e012e528ca890e2db89d3b'), 'rec_num': 7130, 'age_upon_outcome': '2 years', 'animal_id': 'A702577', 'animal_type': 'Dog', 'breed': 'Australian Cattle Dog/Labrador Retriever', 'color': 'Brown/White', 'date_of_birth': '2013-05-16', 'datetime': '2015-05-16 15:13:00', 'monthyear': '2015-05-16T15:13:00', 'name': 'Sunny', 'outcome_subtype': '', 'outcome_type': 'Return to Owner', 'sex_upon_outcome': 'Neutered Male', 'location_lat': 30.5449984726997, 'location_long': -97.4245283994316, 'age_upon_outcome_in_weeks': 104.37628968254}\n",
      "{'_id': ObjectId('67e3e8e5844c11e53bd4ddab'), 'animal_id': 'A000001', 'name': 'Sunny', 'animal_type': 'Dog', 'breed': 'Retriever', 'color': 'Golden', 'date_of_birth': '2021-01-01', 'age_upon_outcome': '2 years', 'outcome_type': 'Adoption', 'sex_upon_outcome': 'Spayed Female'}\n"
     ]
    }
   ],
   "source": [
    "from animal_shelter import AnimalShelter\n",
    "\n",
    "\n",
    "#Creating an object\n",
    "shelter = AnimalShelter()\n",
    "\n",
    "#insert a test animal\n",
    "test_animal = {\n",
    "    \"animal_id\": \"A000001\",\n",
    "    \"name\": \"Sunny\",\n",
    "    \"animal_type\": \"Dog\",\n",
    "    \"breed\": \"Retriever\",\n",
    "    \"color\": \"Golden\",\n",
    "    \"date_of_birth\": \"2021-01-01\",\n",
    "    \"age_upon_outcome\": \"2 years\",\n",
    "    \"outcome_type\": \"Adoption\",\n",
    "    \"sex_upon_outcome\": \"Spayed Female\"\n",
    "}\n",
    "\n",
    "insert_result = shelter.create(test_animal)\n",
    "print(\"Insert successful:\",insert_result)\n",
    "\n",
    "#search for the new animal\n",
    "results = shelter.read({\"name\": \"Sunny\"})\n",
    "for doc in results:\n",
    "    print(doc)\n",
    "    "
   ]
  },
  {
   "cell_type": "code",
   "execution_count": null,
   "id": "b92b3d49",
   "metadata": {},
   "outputs": [],
   "source": []
  }
 ],
 "metadata": {
  "kernelspec": {
   "display_name": "Python 3 (ipykernel)",
   "language": "python",
   "name": "python3"
  },
  "language_info": {
   "codemirror_mode": {
    "name": "ipython",
    "version": 3
   },
   "file_extension": ".py",
   "mimetype": "text/x-python",
   "name": "python",
   "nbconvert_exporter": "python",
   "pygments_lexer": "ipython3",
   "version": "3.9.12"
  }
 },
 "nbformat": 4,
 "nbformat_minor": 5
}
